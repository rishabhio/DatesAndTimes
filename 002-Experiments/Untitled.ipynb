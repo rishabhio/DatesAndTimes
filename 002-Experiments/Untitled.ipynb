{
 "cells": [
  {
   "cell_type": "code",
   "execution_count": 1,
   "id": "97ce5249-127d-46f4-a231-a0c486cb8059",
   "metadata": {},
   "outputs": [],
   "source": [
    "from datetime import datetime"
   ]
  },
  {
   "cell_type": "code",
   "execution_count": 2,
   "id": "3e3aadfe-f1ce-44bb-9bff-8da929ae648f",
   "metadata": {},
   "outputs": [
    {
     "data": {
      "text/plain": [
       "['__add__',\n",
       " '__class__',\n",
       " '__delattr__',\n",
       " '__dir__',\n",
       " '__doc__',\n",
       " '__eq__',\n",
       " '__format__',\n",
       " '__ge__',\n",
       " '__getattribute__',\n",
       " '__getstate__',\n",
       " '__gt__',\n",
       " '__hash__',\n",
       " '__init__',\n",
       " '__init_subclass__',\n",
       " '__le__',\n",
       " '__lt__',\n",
       " '__ne__',\n",
       " '__new__',\n",
       " '__radd__',\n",
       " '__reduce__',\n",
       " '__reduce_ex__',\n",
       " '__repr__',\n",
       " '__rsub__',\n",
       " '__setattr__',\n",
       " '__sizeof__',\n",
       " '__str__',\n",
       " '__sub__',\n",
       " '__subclasshook__',\n",
       " 'astimezone',\n",
       " 'combine',\n",
       " 'ctime',\n",
       " 'date',\n",
       " 'day',\n",
       " 'dst',\n",
       " 'fold',\n",
       " 'fromisocalendar',\n",
       " 'fromisoformat',\n",
       " 'fromordinal',\n",
       " 'fromtimestamp',\n",
       " 'hour',\n",
       " 'isocalendar',\n",
       " 'isoformat',\n",
       " 'isoweekday',\n",
       " 'max',\n",
       " 'microsecond',\n",
       " 'min',\n",
       " 'minute',\n",
       " 'month',\n",
       " 'now',\n",
       " 'replace',\n",
       " 'resolution',\n",
       " 'second',\n",
       " 'strftime',\n",
       " 'strptime',\n",
       " 'time',\n",
       " 'timestamp',\n",
       " 'timetuple',\n",
       " 'timetz',\n",
       " 'today',\n",
       " 'toordinal',\n",
       " 'tzinfo',\n",
       " 'tzname',\n",
       " 'utcfromtimestamp',\n",
       " 'utcnow',\n",
       " 'utcoffset',\n",
       " 'utctimetuple',\n",
       " 'weekday',\n",
       " 'year']"
      ]
     },
     "execution_count": 2,
     "metadata": {},
     "output_type": "execute_result"
    }
   ],
   "source": [
    "dir( datetime ) "
   ]
  },
  {
   "cell_type": "code",
   "execution_count": 6,
   "id": "a6124d75-40d0-4fe7-9992-0705af005a8b",
   "metadata": {},
   "outputs": [
    {
     "name": "stdout",
     "output_type": "stream",
     "text": [
      "Help on method_descriptor:\n",
      "\n",
      "astimezone(...)\n",
      "    tz -> convert to local time in new timezone tz\n",
      "\n"
     ]
    }
   ],
   "source": [
    "help( datetime.astimezone ) "
   ]
  },
  {
   "cell_type": "code",
   "execution_count": 25,
   "id": "850e9836-649a-47e3-9135-dcc5df819b1e",
   "metadata": {},
   "outputs": [],
   "source": [
    "now_time = datetime.now() "
   ]
  },
  {
   "cell_type": "code",
   "execution_count": 26,
   "id": "2d05d22f-f49e-4355-815e-d7b367430d1f",
   "metadata": {},
   "outputs": [
    {
     "data": {
      "text/plain": [
       "['__add__',\n",
       " '__class__',\n",
       " '__delattr__',\n",
       " '__dir__',\n",
       " '__doc__',\n",
       " '__eq__',\n",
       " '__format__',\n",
       " '__ge__',\n",
       " '__getattribute__',\n",
       " '__getstate__',\n",
       " '__gt__',\n",
       " '__hash__',\n",
       " '__init__',\n",
       " '__init_subclass__',\n",
       " '__le__',\n",
       " '__lt__',\n",
       " '__ne__',\n",
       " '__new__',\n",
       " '__radd__',\n",
       " '__reduce__',\n",
       " '__reduce_ex__',\n",
       " '__repr__',\n",
       " '__rsub__',\n",
       " '__setattr__',\n",
       " '__sizeof__',\n",
       " '__str__',\n",
       " '__sub__',\n",
       " '__subclasshook__',\n",
       " 'astimezone',\n",
       " 'combine',\n",
       " 'ctime',\n",
       " 'date',\n",
       " 'day',\n",
       " 'dst',\n",
       " 'fold',\n",
       " 'fromisocalendar',\n",
       " 'fromisoformat',\n",
       " 'fromordinal',\n",
       " 'fromtimestamp',\n",
       " 'hour',\n",
       " 'isocalendar',\n",
       " 'isoformat',\n",
       " 'isoweekday',\n",
       " 'max',\n",
       " 'microsecond',\n",
       " 'min',\n",
       " 'minute',\n",
       " 'month',\n",
       " 'now',\n",
       " 'replace',\n",
       " 'resolution',\n",
       " 'second',\n",
       " 'strftime',\n",
       " 'strptime',\n",
       " 'time',\n",
       " 'timestamp',\n",
       " 'timetuple',\n",
       " 'timetz',\n",
       " 'today',\n",
       " 'toordinal',\n",
       " 'tzinfo',\n",
       " 'tzname',\n",
       " 'utcfromtimestamp',\n",
       " 'utcnow',\n",
       " 'utcoffset',\n",
       " 'utctimetuple',\n",
       " 'weekday',\n",
       " 'year']"
      ]
     },
     "execution_count": 26,
     "metadata": {},
     "output_type": "execute_result"
    }
   ],
   "source": [
    "dir( now_time ) "
   ]
  },
  {
   "cell_type": "code",
   "execution_count": 43,
   "id": "ed7450db-2240-4647-b503-44d0c4b26f94",
   "metadata": {},
   "outputs": [],
   "source": [
    "datetime_str = '31/01/22 23:59:59.999999'"
   ]
  },
  {
   "cell_type": "code",
   "execution_count": 48,
   "id": "57bb2577-d1cb-43cf-8ab2-de2a43d6ddea",
   "metadata": {},
   "outputs": [],
   "source": [
    "# parse datetime from the above string \n",
    "datetime_obj = datetime.strptime('31/01/22 23:59:59.999999', '%d/%m/%y %H:%M:%S.%f')"
   ]
  },
  {
   "cell_type": "code",
   "execution_count": 49,
   "id": "2f110c3f-6f7e-43de-8451-7fdad3831bed",
   "metadata": {},
   "outputs": [
    {
     "data": {
      "text/plain": [
       "datetime.datetime(2022, 1, 31, 23, 59, 59, 999999)"
      ]
     },
     "execution_count": 49,
     "metadata": {},
     "output_type": "execute_result"
    }
   ],
   "source": [
    "datetime_obj"
   ]
  },
  {
   "cell_type": "code",
   "execution_count": 51,
   "id": "8dc51c8c-6a39-42a6-86b2-2b38e96a1044",
   "metadata": {},
   "outputs": [],
   "source": []
  },
  {
   "cell_type": "code",
   "execution_count": 64,
   "id": "6e14597a-fa88-493e-a694-bdff8986d928",
   "metadata": {},
   "outputs": [],
   "source": [
    "datetime_obj = datetime.strptime('31-08-28 23:59:59.999999', '%d-%m-%y %H:%M:%S.%f')"
   ]
  },
  {
   "cell_type": "code",
   "execution_count": 65,
   "id": "1580098f-e2c2-4878-b7c4-52418578a734",
   "metadata": {},
   "outputs": [
    {
     "data": {
      "text/plain": [
       "datetime.datetime(2028, 8, 31, 23, 59, 59, 999999)"
      ]
     },
     "execution_count": 65,
     "metadata": {},
     "output_type": "execute_result"
    }
   ],
   "source": [
    "datetime_obj"
   ]
  },
  {
   "cell_type": "code",
   "execution_count": 70,
   "id": "0df768e5-18a0-47fa-b49d-f8163322a07f",
   "metadata": {},
   "outputs": [],
   "source": [
    "datetime_str = '31-08-28 13:24:43.232323'"
   ]
  },
  {
   "cell_type": "code",
   "execution_count": 71,
   "id": "d0632772-2b67-4832-984e-dc1a5f4615f8",
   "metadata": {},
   "outputs": [],
   "source": [
    "datetime_obj = datetime.strptime(datetime_str, '%d-%m-%y %H:%M:%S.%f' )"
   ]
  },
  {
   "cell_type": "code",
   "execution_count": 72,
   "id": "bafec76e-35b3-4d69-af07-964abcb68b53",
   "metadata": {},
   "outputs": [
    {
     "data": {
      "text/plain": [
       "datetime.datetime(2028, 8, 31, 13, 24, 43, 232323)"
      ]
     },
     "execution_count": 72,
     "metadata": {},
     "output_type": "execute_result"
    }
   ],
   "source": [
    "datetime_obj"
   ]
  },
  {
   "cell_type": "code",
   "execution_count": 74,
   "id": "6b9391a0-2605-4637-9214-f0a3da0506d7",
   "metadata": {},
   "outputs": [
    {
     "data": {
      "text/plain": [
       "2028"
      ]
     },
     "execution_count": 74,
     "metadata": {},
     "output_type": "execute_result"
    }
   ],
   "source": [
    "datetime_obj.year"
   ]
  },
  {
   "cell_type": "code",
   "execution_count": 76,
   "id": "56e8fe72-9f0a-45e1-bf75-e679c9509b08",
   "metadata": {},
   "outputs": [
    {
     "data": {
      "text/plain": [
       "8"
      ]
     },
     "execution_count": 76,
     "metadata": {},
     "output_type": "execute_result"
    }
   ],
   "source": [
    "datetime_obj.month"
   ]
  },
  {
   "cell_type": "code",
   "execution_count": 80,
   "id": "de3635cb-7db3-4488-8450-1ec82a3d9f0a",
   "metadata": {},
   "outputs": [
    {
     "data": {
      "text/plain": [
       "31"
      ]
     },
     "execution_count": 80,
     "metadata": {},
     "output_type": "execute_result"
    }
   ],
   "source": [
    "datetime_obj.day"
   ]
  },
  {
   "cell_type": "code",
   "execution_count": 82,
   "id": "bc29c480-745d-49da-9ba9-8f2352503d57",
   "metadata": {},
   "outputs": [],
   "source": [
    "new_date = f'{datetime_obj.day}-{datetime_obj.month}-{datetime_obj.year}'"
   ]
  },
  {
   "cell_type": "code",
   "execution_count": 84,
   "id": "34264981-213c-44b4-a52a-22299c5cd93a",
   "metadata": {},
   "outputs": [
    {
     "data": {
      "text/plain": [
       "'31-8-2028'"
      ]
     },
     "execution_count": 84,
     "metadata": {},
     "output_type": "execute_result"
    }
   ],
   "source": [
    "new_date"
   ]
  },
  {
   "cell_type": "code",
   "execution_count": 87,
   "id": "cc229b32-a0b6-47af-a0a3-76cef1ab10db",
   "metadata": {},
   "outputs": [],
   "source": [
    "new_date_obj = datetime.strptime(new_date, '%d-%m-%Y')"
   ]
  },
  {
   "cell_type": "code",
   "execution_count": 88,
   "id": "a4f664b0-a962-4e60-b91e-035b990852d9",
   "metadata": {},
   "outputs": [
    {
     "data": {
      "text/plain": [
       "datetime.datetime(2028, 8, 31, 0, 0)"
      ]
     },
     "execution_count": 88,
     "metadata": {},
     "output_type": "execute_result"
    }
   ],
   "source": [
    "new_date_obj"
   ]
  }
 ],
 "metadata": {
  "kernelspec": {
   "display_name": "Python 3 (ipykernel)",
   "language": "python",
   "name": "python3"
  },
  "language_info": {
   "codemirror_mode": {
    "name": "ipython",
    "version": 3
   },
   "file_extension": ".py",
   "mimetype": "text/x-python",
   "name": "python",
   "nbconvert_exporter": "python",
   "pygments_lexer": "ipython3",
   "version": "3.12.0"
  }
 },
 "nbformat": 4,
 "nbformat_minor": 5
}
